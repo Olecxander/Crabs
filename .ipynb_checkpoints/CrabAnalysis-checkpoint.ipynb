{
 "cells": [
  {
   "cell_type": "code",
   "execution_count": 1,
   "id": "c6c4b090-ff35-4437-868c-0415b579fcf6",
   "metadata": {},
   "outputs": [],
   "source": [
    "import os\n",
    "import requests"
   ]
  },
  {
   "cell_type": "code",
   "execution_count": null,
   "id": "33171cdd-aa18-48fb-a293-6724259d1d90",
   "metadata": {},
   "outputs": [],
   "source": [
    "# URL of the file to download\n",
    "url = \"https://www.kaggle.com/datasets/shalfey/extended-crab-age-prediction/download?datasetVersionNumber=1\""
   ]
  },
  {
   "cell_type": "code",
   "execution_count": null,
   "id": "47116290-3a83-4806-8409-4612c75a2444",
   "metadata": {},
   "outputs": [],
   "source": [
    "# File path to save the downloaded file\n",
    "file_path = \"Crabs.csv\""
   ]
  },
  {
   "cell_type": "code",
   "execution_count": null,
   "id": "3f05fda5-f5e2-427c-aa28-d039b5940c10",
   "metadata": {},
   "outputs": [],
   "source": [
    "\n",
    "def download_file(url, file_path):\n",
    "    response = requests.get(url, stream=True)\n",
    "    if response.status_code == 200:\n",
    "        with open(file_path, 'wb') as file:\n",
    "            for chunk in response.iter_content(chunk_size=1024):\n",
    "                file.write(chunk)\n",
    "        print(\"File downloaded successfully.\")\n",
    "    else:\n",
    "        print(\"Failed to download file.\")"
   ]
  },
  {
   "cell_type": "code",
   "execution_count": null,
   "id": "4c97ee36-0d9d-4878-ac75-3be1450aa627",
   "metadata": {},
   "outputs": [],
   "source": [
    "def check_and_download_file(url, file_path):\n",
    "    if not os.path.isfile(file_path):\n",
    "        download_file(url, file_path)\n",
    "    else:\n",
    "        print(\"File already exists.\")\n",
    "\n",
    "\n",
    "# Check if the file exists and download it if necessary\n",
    "check_and_download_file(url, file_path)\n"
   ]
  }
 ],
 "metadata": {
  "kernelspec": {
   "display_name": "Python 3 (ipykernel)",
   "language": "python",
   "name": "python3"
  },
  "language_info": {
   "codemirror_mode": {
    "name": "ipython",
    "version": 3
   },
   "file_extension": ".py",
   "mimetype": "text/x-python",
   "name": "python",
   "nbconvert_exporter": "python",
   "pygments_lexer": "ipython3",
   "version": "3.9.13"
  }
 },
 "nbformat": 4,
 "nbformat_minor": 5
}
